{
 "cells": [
  {
   "cell_type": "code",
   "execution_count": 111,
   "id": "bc9d8902",
   "metadata": {},
   "outputs": [],
   "source": [
    "import pandas as pd\n",
    "import numpy as np\n",
    "import matplotlib.pyplot as plt\n",
    "import seaborn as sns\n",
    "\n",
    "\n",
    "from sklearn.model_selection import train_test_split\n",
    "from sklearn.preprocessing import LabelEncoder\n",
    "\n",
    "import warnings\n",
    "warnings.filterwarnings('ignore')\n",
    "\n",
    "import datetime\n",
    "import math\n",
    "import calendar\n",
    "\n",
    "import os\n",
    "import sys\n",
    "\n",
    "sys.path.append(os.path.abspath(os.path.join('../scripts')))\n",
    "from processing import processing\n"
   ]
  },
  {
   "cell_type": "code",
   "execution_count": 58,
   "id": "09cc16ee",
   "metadata": {},
   "outputs": [
    {
     "data": {
      "text/plain": [
       "((1017209, 9), (41088, 8), (1115, 10))"
      ]
     },
     "execution_count": 58,
     "metadata": {},
     "output_type": "execute_result"
    }
   ],
   "source": [
    "train = pd.read_csv('../data/train.csv')\n",
    "test = pd.read_csv('../data/test.csv')\n",
    "store = pd.read_csv('../data/store.csv')\n",
    "\n",
    "train.shape, test.shape, store.shape"
   ]
  },
  {
   "cell_type": "code",
   "execution_count": 59,
   "id": "1e8504c0",
   "metadata": {},
   "outputs": [],
   "source": [
    "features_x = ['Store', 'Date', 'DayOfWeek', 'Open', 'Promo', 'SchoolHoliday', 'StateHoliday']\n",
    "features_y = ['SalesLog']"
   ]
  },
  {
   "cell_type": "code",
   "execution_count": 60,
   "id": "43c5e674",
   "metadata": {},
   "outputs": [],
   "source": [
    "train['is_train'] = 1\n",
    "test['is_train'] = 0\n",
    "df = pd.concat([train, test])"
   ]
  },
  {
   "cell_type": "code",
   "execution_count": 61,
   "id": "bf3ddc84",
   "metadata": {},
   "outputs": [],
   "source": [
    "df.Date = pd.to_datetime(df.Date) #Converting date to required format"
   ]
  },
  {
   "cell_type": "code",
   "execution_count": 62,
   "id": "5c60f0ae",
   "metadata": {},
   "outputs": [],
   "source": [
    "df = df.loc[~((df['Open'] == 1) & (df['Sales'] == 0))] #Removing rows with Sales 0"
   ]
  },
  {
   "cell_type": "code",
   "execution_count": 63,
   "id": "7e6531fb",
   "metadata": {},
   "outputs": [],
   "source": [
    "df.StateHoliday = df.StateHoliday.map({0:'0', 'a':'a', 'b':'b', 'c':'c', '0':'0'}) #mixed data types\n",
    "df.StateHoliday = LabelEncoder().fit_transform(df.StateHoliday) #Encoding for XG Boost"
   ]
  },
  {
   "cell_type": "code",
   "execution_count": 64,
   "id": "7c8621d9",
   "metadata": {},
   "outputs": [],
   "source": [
    "var_name = 'Date'\n",
    "\n",
    "df[var_name + 'Day'] = df[var_name].dt.day #addding day\n",
    "df[var_name + 'Week'] = df[var_name].dt.week #adding week\n",
    "df[var_name + 'Month'] = df[var_name].dt.month #adding month\n",
    "df[var_name + 'Year'] = df[var_name].dt.year #adding year\n",
    "df[var_name + 'DayOfYear'] = df[var_name].dt.dayofyear #adding dayofyear\n",
    "\n",
    "features_x.remove(var_name) #removing Date\n",
    "features_x.append(var_name + 'Day')\n",
    "features_x.append(var_name + 'Week')\n",
    "features_x.append(var_name + 'Month')\n",
    "features_x.append(var_name + 'Year')\n",
    "features_x.append(var_name + 'DayOfYear')"
   ]
  },
  {
   "cell_type": "code",
   "execution_count": 65,
   "id": "1af7ed0c",
   "metadata": {},
   "outputs": [],
   "source": [
    "store.StoreType = LabelEncoder().fit_transform(store.StoreType) #encoding StoreType\n",
    "store.Assortment = LabelEncoder().fit_transform(store.Assortment) #encoding Assortment"
   ]
  },
  {
   "cell_type": "code",
   "execution_count": 66,
   "id": "3d6d9986",
   "metadata": {},
   "outputs": [],
   "source": [
    "join_with = store['PromoInterval'].str.split(',').apply(pd.Series)\n",
    "join_with.columns = join_with.columns.map(lambda x: str(x) + '_PromoInterval')\n",
    "store = store.join(join_with) #joining splits"
   ]
  },
  {
   "cell_type": "code",
   "execution_count": 67,
   "id": "145ebb55",
   "metadata": {},
   "outputs": [],
   "source": [
    "def monthToNum(value):\n",
    "    if(value=='Sept'):\n",
    "        value='Sep'\n",
    "    return list(calendar.month_abbr).index(value)\n",
    "#mapping month abbr to month number\n",
    "store['0_PromoInterval'] = store['0_PromoInterval'].map(lambda x: monthToNum(x) if str(x) != 'nan' else np.nan)\n",
    "store['1_PromoInterval'] = store['1_PromoInterval'].map(lambda x: monthToNum(x) if str(x) != 'nan' else np.nan)\n",
    "store['2_PromoInterval'] = store['2_PromoInterval'].map(lambda x: monthToNum(x) if str(x) != 'nan' else np.nan)\n",
    "store['3_PromoInterval'] = store['3_PromoInterval'].map(lambda x: monthToNum(x) if str(x) != 'nan' else np.nan)"
   ]
  },
  {
   "cell_type": "code",
   "execution_count": 68,
   "id": "4dac9242",
   "metadata": {},
   "outputs": [
    {
     "data": {
      "text/plain": [
       "(1115,)"
      ]
     },
     "execution_count": 68,
     "metadata": {},
     "output_type": "execute_result"
    }
   ],
   "source": [
    "competition_open = []\n",
    "for index, value in store[['CompetitionOpenSinceMonth', 'CompetitionOpenSinceYear']].iterrows():\n",
    "    try:\n",
    "        year, month = int(value['CompetitionOpenSinceYear']), int(value['CompetitionOpenSinceMonth'])\n",
    "        date = pd.to_datetime(\"{}-{}-01\".format(year, month), format='%Y-%m')\n",
    "        competition_open.append(date)\n",
    "    except:\n",
    "        competition_open.append(np.nan)\n",
    "competition_open = pd.Series(competition_open)\n",
    "competition_open.shape"
   ]
  },
  {
   "cell_type": "code",
   "execution_count": 69,
   "id": "446f7ade",
   "metadata": {},
   "outputs": [],
   "source": [
    "store['CompetitionOpen'] = competition_open #converted int to datetime\n",
    "store['CompetitionOpen'] = store.CompetitionOpen.dt.strftime('%Y%m%d')"
   ]
  },
  {
   "cell_type": "code",
   "execution_count": 70,
   "id": "a0228de4",
   "metadata": {},
   "outputs": [
    {
     "data": {
      "text/plain": [
       "(1115,)"
      ]
     },
     "execution_count": 70,
     "metadata": {},
     "output_type": "execute_result"
    }
   ],
   "source": [
    "promo = []\n",
    "for index, value in store[['Promo2SinceWeek', 'Promo2SinceYear']].iterrows():\n",
    "    try:\n",
    "        year, week = int(value['Promo2SinceYear']), int(value['Promo2SinceWeek'])\n",
    "        date = pd.to_datetime(\"{}-{}-01\".format(year, week), format='%Y%W')\n",
    "        promo.append(date)\n",
    "    except:\n",
    "        promo.append(np.nan)\n",
    "promo = pd.to_datetime(pd.Series(competition_open))\n",
    "promo.shape"
   ]
  },
  {
   "cell_type": "code",
   "execution_count": 71,
   "id": "d6ad0e55",
   "metadata": {},
   "outputs": [],
   "source": [
    "store['PromoSince'] = promo #converted int to datetime\n",
    "store['PromoSince'] = store.PromoSince.dt.strftime('%Y%m%d')"
   ]
  },
  {
   "cell_type": "code",
   "execution_count": 72,
   "id": "3db9755a",
   "metadata": {},
   "outputs": [],
   "source": [
    "store_features = ['Store', 'StoreType', 'Assortment', 'CompetitionDistance', 'CompetitionOpen', \n",
    "                  'PromoSince', '0_PromoInterval']\n",
    "#1_PromoInterval, 2_PromoInterval, 3_PromoInterval irrelevent"
   ]
  },
  {
   "cell_type": "code",
   "execution_count": 73,
   "id": "2457a67c",
   "metadata": {},
   "outputs": [],
   "source": [
    "df = pd.merge(df, store[store_features], how='left', on=['Store'])"
   ]
  },
  {
   "cell_type": "code",
   "execution_count": 74,
   "id": "8a90eee5",
   "metadata": {},
   "outputs": [],
   "source": [
    "features_x = list(set(features_x + store_features))"
   ]
  },
  {
   "cell_type": "code",
   "execution_count": 75,
   "id": "001babd2",
   "metadata": {},
   "outputs": [],
   "source": [
    "for feature in features_x:\n",
    "    df[feature] = df[feature].fillna(-999) #out of range value for model"
   ]
  },
  {
   "cell_type": "code",
   "execution_count": 76,
   "id": "994ad01a",
   "metadata": {},
   "outputs": [],
   "source": [
    "df['DateInt'] = df.Date.dt.strftime('%Y%m%d').map(int) #mapping to Int\n",
    "df['CompetitionOpen'] = df.CompetitionOpen.map(int)\n",
    "df['PromoSince'] = df.PromoSince.map(int)"
   ]
  },
  {
   "cell_type": "code",
   "execution_count": 77,
   "id": "92516f12",
   "metadata": {},
   "outputs": [],
   "source": [
    "df['Zscore'] = (df.Sales - df.Sales.mean())/df.Sales.std()"
   ]
  },
  {
   "cell_type": "code",
   "execution_count": 78,
   "id": "875c16b6",
   "metadata": {},
   "outputs": [],
   "source": [
    "thresh=4.0\n",
    "def check_outlier(value):\n",
    "    if(value>=thresh):\n",
    "        return True\n",
    "    else:\n",
    "        return False\n",
    "\n",
    "df['Outlier'] = df.Zscore.apply(check_outlier)"
   ]
  },
  {
   "cell_type": "code",
   "execution_count": 79,
   "id": "e0b3250b",
   "metadata": {},
   "outputs": [],
   "source": [
    "store_data_sales = df.groupby([df['Store']])['Sales'].sum()\n",
    "store_data_customers = df.groupby([df['Store']])['Customers'].sum()\n",
    "store_data_open = df.groupby([df['Store']])['Open'].count()\n",
    "\n",
    "store_data_sales_per_day = store_data_sales / store_data_open\n",
    "store_data_customers_per_day = store_data_customers / store_data_open\n",
    "store_data_sales_per_customer_per_day = store_data_sales_per_day / store_data_customers_per_day\n",
    "\n",
    "df_store = pd.merge(store, store_data_sales_per_day.reset_index(name='SalesPerDay'), how='left', on=['Store'])\n",
    "df_store = pd.merge(df_store, store_data_customers_per_day.reset_index(name='CustomersPerDay'), how='left', on=['Store'])\n",
    "df_store = pd.merge(df_store, store_data_sales_per_customer_per_day.reset_index(name='SalesPerCustomersPerDay'), how='left', on=['Store'])"
   ]
  },
  {
   "cell_type": "code",
   "execution_count": 80,
   "id": "2d9c8d5c",
   "metadata": {},
   "outputs": [],
   "source": [
    "store_features = ['Store', 'SalesPerDay', 'CustomersPerDay', 'SalesPerCustomersPerDay']\n",
    "\n",
    "features_x = list(set(features_x + store_features))\n",
    "df = pd.merge(df, df_store[store_features], how='left', on=['Store'])"
   ]
  },
  {
   "cell_type": "code",
   "execution_count": 81,
   "id": "da7d2273",
   "metadata": {},
   "outputs": [],
   "source": [
    "holidays_each_day_of_week = df.groupby(df.DayOfWeek).sum().StateHoliday\n",
    "df = pd.merge(df, holidays_each_day_of_week.reset_index(name='HolidaysPerDayOfWeek'), on=['DayOfWeek'])"
   ]
  },
  {
   "cell_type": "code",
   "execution_count": 82,
   "id": "4ec35252",
   "metadata": {},
   "outputs": [],
   "source": [
    "school_holidays_each_day_of_week = df.groupby(df.DayOfWeek).sum().SchoolHoliday\n",
    "df = pd.merge(df, school_holidays_each_day_of_week.reset_index(name='SchoolHolidaysPerDayOfWeek'), on=['DayOfWeek'])"
   ]
  },
  {
   "cell_type": "code",
   "execution_count": 83,
   "id": "abd84a53",
   "metadata": {},
   "outputs": [],
   "source": [
    "promo_each_day_of_week = df.groupby(df.DayOfWeek).sum().Promo\n",
    "df = pd.merge(df, promo_each_day_of_week.reset_index(name='PromoPerDayOfWeek'), on=['DayOfWeek'])"
   ]
  },
  {
   "cell_type": "code",
   "execution_count": 84,
   "id": "1fe89f7d",
   "metadata": {},
   "outputs": [
    {
     "data": {
      "text/plain": [
       "(990,)"
      ]
     },
     "execution_count": 84,
     "metadata": {},
     "output_type": "execute_result"
    }
   ],
   "source": [
    "holidays_next_week=[]\n",
    "holidays_next_week_index=[]\n",
    "for index, value in df.groupby(df.Date).sum().iterrows():\n",
    "    start_range = index + datetime.timedelta(days=7)\n",
    "    end_range = index + datetime.timedelta(days=15)\n",
    "    school_holidays = sum((df.groupby(df.Date).sum()[start_range:end_range]).SchoolHoliday)\n",
    "    state_holidays = sum((df.groupby(df.Date).sum()[start_range:end_range]).StateHoliday)\n",
    "    holidays_next_week.append(school_holidays+state_holidays)\n",
    "    holidays_next_week_index.append(index)\n",
    "    \n",
    "holidays_next_week = pd.Series(holidays_next_week)\n",
    "holidays_next_week.shape"
   ]
  },
  {
   "cell_type": "code",
   "execution_count": 85,
   "id": "f52d487f",
   "metadata": {},
   "outputs": [
    {
     "data": {
      "text/plain": [
       "(990,)"
      ]
     },
     "execution_count": 85,
     "metadata": {},
     "output_type": "execute_result"
    }
   ],
   "source": [
    "holidays_this_week=[]\n",
    "index_list = []\n",
    "for index, value in df.groupby(df.Date).sum().iterrows():\n",
    "    start_range = index \n",
    "    end_range = index + datetime.timedelta(days=7)\n",
    "    school_holidays = sum((df.groupby(df.Date).sum()[start_range:end_range]).SchoolHoliday)\n",
    "    state_holidays = sum((df.groupby(df.Date).sum()[start_range:end_range]).StateHoliday)\n",
    "    holidays_this_week.append(school_holidays+state_holidays)\n",
    "    index_list.append(index)\n",
    "    \n",
    "holidays_this_week = pd.Series(holidays_this_week)\n",
    "holidays_this_week.shape"
   ]
  },
  {
   "cell_type": "code",
   "execution_count": 86,
   "id": "b74c4d91",
   "metadata": {},
   "outputs": [
    {
     "data": {
      "text/plain": [
       "(990,)"
      ]
     },
     "execution_count": 86,
     "metadata": {},
     "output_type": "execute_result"
    }
   ],
   "source": [
    "holidays_last_week=[]\n",
    "holidays_last_week_index=[]\n",
    "for index, value in df.groupby(df.Date).sum().iterrows():\n",
    "    start_range = index - datetime.timedelta(days=7)\n",
    "    end_range = index + datetime.timedelta(days=1)\n",
    "    school_holidays = sum((df.groupby(df.Date).sum()[start_range:end_range]).SchoolHoliday)\n",
    "    state_holidays = sum((df.groupby(df.Date).sum()[start_range:end_range]).StateHoliday)\n",
    "    holidays_last_week.append(school_holidays+state_holidays)\n",
    "    holidays_last_week_index.append(index)\n",
    "    \n",
    "holidays_last_week = pd.Series(holidays_next_week)\n",
    "holidays_last_week.shape"
   ]
  },
  {
   "cell_type": "code",
   "execution_count": 87,
   "id": "6cb5847f",
   "metadata": {},
   "outputs": [],
   "source": [
    "temp_df = pd.DataFrame({'HolidaysNextWeek':holidays_next_week, 'Date': holidays_next_week_index})\n",
    "df = pd.merge(df, temp_df, on=['Date'])"
   ]
  },
  {
   "cell_type": "code",
   "execution_count": 88,
   "id": "103b771e",
   "metadata": {},
   "outputs": [],
   "source": [
    "temp_df = pd.DataFrame({'HolidaysThisWeek':holidays_this_week, 'Date': index_list})\n",
    "df = pd.merge(df, temp_df, on=['Date'])"
   ]
  },
  {
   "cell_type": "code",
   "execution_count": 89,
   "id": "07095725",
   "metadata": {},
   "outputs": [],
   "source": [
    "temp_df = pd.DataFrame({'HolidaysLastWeek':holidays_last_week, 'Date': holidays_last_week_index})\n",
    "df = pd.merge(df, temp_df, on=['Date'])"
   ]
  },
  {
   "cell_type": "code",
   "execution_count": 90,
   "id": "c78d0f73",
   "metadata": {},
   "outputs": [],
   "source": [
    "holidays_features = ['HolidaysPerDayOfWeek', 'SchoolHolidaysPerDayOfWeek', 'PromoPerDayOfWeek', \n",
    "                     'HolidaysNextWeek', 'HolidaysThisWeek', 'HolidaysLastWeek']\n",
    "\n",
    "features_x = list(set(features_x + holidays_features))"
   ]
  },
  {
   "cell_type": "code",
   "execution_count": 91,
   "id": "2b396552",
   "metadata": {},
   "outputs": [],
   "source": [
    "#Most Promos are done on DayofWeek 4\n",
    "df['DaysTillMaxPromo'] = df.DayOfWeek.apply(lambda x: 4-x)"
   ]
  },
  {
   "cell_type": "code",
   "execution_count": 92,
   "id": "931b5fcd",
   "metadata": {},
   "outputs": [],
   "source": [
    "df['PromoTomorrow'] = df.Promo.shift(-1)\n",
    "df['PromoYesterday'] = df.Promo.shift(1)\n"
   ]
  },
  {
   "cell_type": "code",
   "execution_count": 93,
   "id": "8ce20be2",
   "metadata": {},
   "outputs": [],
   "source": [
    "promo_features = ['DaysTillMaxPromo', 'PromoTomorrow', 'PromoYesterday']\n",
    "\n",
    "features_x = list(set(features_x + promo_features))"
   ]
  },
  {
   "cell_type": "code",
   "execution_count": 94,
   "id": "f931299a",
   "metadata": {},
   "outputs": [],
   "source": [
    "df.Sales = df.Sales.apply(lambda x: np.nan if x == 0 else x) #Convert 0 to NaNs"
   ]
  },
  {
   "cell_type": "code",
   "execution_count": 95,
   "id": "331ab6e7",
   "metadata": {},
   "outputs": [],
   "source": [
    "df.loc[df['is_train'] == 1, 'SalesLog'] = np.log(1+df.loc[df['is_train'] == 1]['Sales']) #Transforming Sales to 1+log"
   ]
  },
  {
   "cell_type": "code",
   "execution_count": 96,
   "id": "e1a254e6",
   "metadata": {},
   "outputs": [
    {
     "data": {
      "text/plain": [
       "29"
      ]
     },
     "execution_count": 96,
     "metadata": {},
     "output_type": "execute_result"
    }
   ],
   "source": [
    "len(features_x)"
   ]
  },
  {
   "cell_type": "code",
   "execution_count": 97,
   "id": "8eb4cf8c",
   "metadata": {},
   "outputs": [
    {
     "data": {
      "text/plain": [
       "(1058243, 38)"
      ]
     },
     "execution_count": 97,
     "metadata": {},
     "output_type": "execute_result"
    }
   ],
   "source": [
    "df.shape"
   ]
  },
  {
   "cell_type": "code",
   "execution_count": 98,
   "id": "44d51636",
   "metadata": {},
   "outputs": [
    {
     "data": {
      "text/plain": [
       "1527143"
      ]
     },
     "execution_count": 98,
     "metadata": {},
     "output_type": "execute_result"
    }
   ],
   "source": [
    "df.isnull().sum().sum()"
   ]
  },
  {
   "cell_type": "markdown",
   "id": "edc9fe71",
   "metadata": {},
   "source": [
    "Modelling"
   ]
  },
  {
   "cell_type": "code",
   "execution_count": null,
   "id": "3cf79493",
   "metadata": {},
   "outputs": [],
   "source": []
  },
  {
   "cell_type": "code",
   "execution_count": 99,
   "id": "bd60766c",
   "metadata": {},
   "outputs": [],
   "source": [
    "import xgboost as xgb"
   ]
  },
  {
   "cell_type": "code",
   "execution_count": 112,
   "id": "cb8dd965",
   "metadata": {
    "scrolled": true
   },
   "outputs": [
    {
     "name": "stdout",
     "output_type": "stream",
     "text": [
      "(757442, 29) (757442, 1) (84161, 29) (84161, 1)\n"
     ]
    },
    {
     "ename": "NameError",
     "evalue": "name 'rmspe_xg' is not defined",
     "output_type": "error",
     "traceback": [
      "\u001b[1;31m---------------------------------------------------------------------------\u001b[0m",
      "\u001b[1;31mNameError\u001b[0m                                 Traceback (most recent call last)",
      "\u001b[1;32m<ipython-input-112-8c581cdb580a>\u001b[0m in \u001b[0;36m<module>\u001b[1;34m\u001b[0m\n\u001b[0;32m     21\u001b[0m \u001b[1;33m\u001b[0m\u001b[0m\n\u001b[0;32m     22\u001b[0m model = xgb.train(plst, dtrain, num_round, evallist, \n\u001b[1;32m---> 23\u001b[1;33m                   feval= rmspe_xg, verbose_eval=250, early_stopping_rounds=250)\n\u001b[0m",
      "\u001b[1;31mNameError\u001b[0m: name 'rmspe_xg' is not defined"
     ]
    }
   ],
   "source": [
    "data = df.loc[(df['is_train'] == 1) & (df['Open'] == 1) & (df['Outlier'] == False)]\n",
    "x_train, x_test, y_train, y_test = train_test_split(data[features_x], \n",
    "                                                    data[features_y], \n",
    "                                                    test_size=0.1, \n",
    "                                                    random_state=42)\n",
    "print(x_train.shape, y_train.shape, x_test.shape, y_test.shape)\n",
    "\n",
    "dtrain = xgb.DMatrix(x_train, y_train)\n",
    "dtest = xgb.DMatrix(x_test, y_test)\n",
    "\n",
    "num_round = 20000\n",
    "evallist = [(dtrain, 'train'), (dtest, 'test')]\n",
    "\n",
    "param = {'max_depth': 9,\n",
    "         'eta': 0.01,\n",
    "         'subsample': 0.75,\n",
    "         'colsample_bytree': 0.6, \n",
    "         'objective': 'reg:squarederror',}\n",
    "\n",
    "plst = list(param.items())\n",
    "\n",
    "model = xgb.train(plst, dtrain, num_round, evallist, \n",
    "                  feval= rmspe_xg, verbose_eval=250, early_stopping_rounds=250)"
   ]
  },
  {
   "cell_type": "code",
   "execution_count": null,
   "id": "3aa52cf5",
   "metadata": {},
   "outputs": [],
   "source": []
  },
  {
   "cell_type": "code",
   "execution_count": 107,
   "id": "7fe97e0d",
   "metadata": {},
   "outputs": [
    {
     "ename": "NameError",
     "evalue": "name 'model' is not defined",
     "output_type": "error",
     "traceback": [
      "\u001b[1;31m---------------------------------------------------------------------------\u001b[0m",
      "\u001b[1;31mNameError\u001b[0m                                 Traceback (most recent call last)",
      "\u001b[1;32m<ipython-input-107-167e91f38c74>\u001b[0m in \u001b[0;36m<module>\u001b[1;34m\u001b[0m\n\u001b[0;32m      2\u001b[0m \u001b[0mplt\u001b[0m\u001b[1;33m.\u001b[0m\u001b[0mfigure\u001b[0m\u001b[1;33m(\u001b[0m\u001b[0mfigsize\u001b[0m\u001b[1;33m=\u001b[0m\u001b[1;33m(\u001b[0m\u001b[1;36m18\u001b[0m\u001b[1;33m,\u001b[0m\u001b[1;36m8\u001b[0m\u001b[1;33m)\u001b[0m\u001b[1;33m)\u001b[0m\u001b[1;33m\u001b[0m\u001b[1;33m\u001b[0m\u001b[0m\n\u001b[0;32m      3\u001b[0m \u001b[1;32mfrom\u001b[0m \u001b[0mxgboost\u001b[0m \u001b[1;32mimport\u001b[0m \u001b[0mplot_importance\u001b[0m\u001b[1;33m\u001b[0m\u001b[1;33m\u001b[0m\u001b[0m\n\u001b[1;32m----> 4\u001b[1;33m \u001b[0mplot_importance\u001b[0m\u001b[1;33m(\u001b[0m\u001b[0mmodel\u001b[0m\u001b[1;33m)\u001b[0m\u001b[1;33m\u001b[0m\u001b[1;33m\u001b[0m\u001b[0m\n\u001b[0m\u001b[0;32m      5\u001b[0m \u001b[0mplt\u001b[0m\u001b[1;33m.\u001b[0m\u001b[0mshow\u001b[0m\u001b[1;33m(\u001b[0m\u001b[1;33m)\u001b[0m\u001b[1;33m\u001b[0m\u001b[1;33m\u001b[0m\u001b[0m\n",
      "\u001b[1;31mNameError\u001b[0m: name 'model' is not defined"
     ]
    },
    {
     "data": {
      "text/plain": [
       "<Figure size 1296x576 with 0 Axes>"
      ]
     },
     "metadata": {},
     "output_type": "display_data"
    }
   ],
   "source": [
    "#Print Feature Importance\n",
    "plt.figure(figsize=(18,8))\n",
    "from xgboost import plot_importance\n",
    "plot_importance(model)\n",
    "plt.show()"
   ]
  },
  {
   "cell_type": "code",
   "execution_count": null,
   "id": "256466f4",
   "metadata": {},
   "outputs": [],
   "source": [
    "submit = df.loc[df['is_train'] == 0]\n",
    "dsubmit = xgb.DMatrix(submit[features_x])\n",
    "predictions = model.predict(dsubmit)\n",
    "\n",
    "df_predictions = submit['Id'].reset_index()\n",
    "df_predictions['Id'] = df_predictions['Id'].astype('int')\n",
    "df_predictions['Sales'] = (np.exp(predictions) - 1) * 0.985 #Scale Back\n",
    "\n",
    "df_predictions.sort_values('Id', inplace=True)\n",
    "df_predictions[['Id', 'Sales']].to_csv('solution.csv', index=False)"
   ]
  },
  {
   "cell_type": "code",
   "execution_count": null,
   "id": "7feee1da",
   "metadata": {},
   "outputs": [],
   "source": []
  },
  {
   "cell_type": "code",
   "execution_count": null,
   "id": "d8eaabbe",
   "metadata": {},
   "outputs": [],
   "source": []
  },
  {
   "cell_type": "code",
   "execution_count": null,
   "id": "0ffe4d23",
   "metadata": {},
   "outputs": [],
   "source": []
  }
 ],
 "metadata": {
  "kernelspec": {
   "display_name": "Python 3",
   "language": "python",
   "name": "python3"
  },
  "language_info": {
   "codemirror_mode": {
    "name": "ipython",
    "version": 3
   },
   "file_extension": ".py",
   "mimetype": "text/x-python",
   "name": "python",
   "nbconvert_exporter": "python",
   "pygments_lexer": "ipython3",
   "version": "3.8.8"
  }
 },
 "nbformat": 4,
 "nbformat_minor": 5
}
