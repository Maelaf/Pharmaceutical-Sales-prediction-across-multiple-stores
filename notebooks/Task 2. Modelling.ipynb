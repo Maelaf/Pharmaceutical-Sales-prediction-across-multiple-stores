{
 "cells": [
  {
   "cell_type": "code",
   "execution_count": 2,
   "id": "f4cc0551",
   "metadata": {},
   "outputs": [],
   "source": [
    "import pandas as pd\n",
    "import numpy as np\n",
    "import matplotlib.pyplot as plt\n",
    "import seaborn as sns\n",
    "\n",
    "\n",
    "from sklearn.model_selection import train_test_split\n",
    "from sklearn.preprocessing import LabelEncoder\n",
    "\n",
    "import warnings\n",
    "warnings.filterwarnings('ignore')\n",
    "\n",
    "import datetime\n",
    "import math\n",
    "import calendar\n",
    "\n",
    "# import os\n",
    "# import sys\n",
    "\n",
    "# sys.path.append(os.path.abspath(os.path.join('../scripts')))\n",
    "# from processing import processing\n"
   ]
  },
  {
   "cell_type": "code",
   "execution_count": 3,
   "id": "38e256eb",
   "metadata": {},
   "outputs": [
    {
     "data": {
      "text/plain": [
       "((1017209, 9), (41088, 8), (1115, 10))"
      ]
     },
     "execution_count": 3,
     "metadata": {},
     "output_type": "execute_result"
    }
   ],
   "source": [
    "train = pd.read_csv('../data/train.csv')\n",
    "test = pd.read_csv('../data/test.csv')\n",
    "store = pd.read_csv('../data/store.csv')\n",
    "\n",
    "train.shape, test.shape, store.shape"
   ]
  },
  {
   "cell_type": "code",
   "execution_count": 6,
   "id": "048a94b9",
   "metadata": {},
   "outputs": [],
   "source": [
    "features_x = ['Store', 'Date', 'DayOfWeek', 'Open', 'Promo', 'SchoolHoliday', 'StateHoliday']\n",
    "features_y = ['SalesLog']"
   ]
  },
  {
   "cell_type": "code",
   "execution_count": 7,
   "id": "2315d58c",
   "metadata": {},
   "outputs": [],
   "source": [
    "train['is_train'] = 1\n",
    "test['is_train'] = 0\n",
    "df = pd.concat([train, test])"
   ]
  },
  {
   "cell_type": "code",
   "execution_count": 8,
   "id": "677e70cd",
   "metadata": {},
   "outputs": [],
   "source": [
    "df.Date = pd.to_datetime(df.Date) #Converting date to required format"
   ]
  },
  {
   "cell_type": "code",
   "execution_count": 9,
   "id": "f20879ee",
   "metadata": {},
   "outputs": [],
   "source": [
    "df = df.loc[~((df['Open'] == 1) & (df['Sales'] == 0))] #Removing rows with Sales 0"
   ]
  },
  {
   "cell_type": "code",
   "execution_count": 10,
   "id": "3355397d",
   "metadata": {},
   "outputs": [],
   "source": [
    "df.StateHoliday = df.StateHoliday.map({0:'0', 'a':'a', 'b':'b', 'c':'c', '0':'0'}) #mixed data types\n",
    "df.StateHoliday = LabelEncoder().fit_transform(df.StateHoliday) #Encoding for XG Boost"
   ]
  },
  {
   "cell_type": "code",
   "execution_count": 11,
   "id": "4ebc2e3e",
   "metadata": {},
   "outputs": [],
   "source": [
    "var_name = 'Date'\n",
    "\n",
    "df[var_name + 'Day'] = df[var_name].dt.day #addding day\n",
    "df[var_name + 'Week'] = df[var_name].dt.week #adding week\n",
    "df[var_name + 'Month'] = df[var_name].dt.month #adding month\n",
    "df[var_name + 'Year'] = df[var_name].dt.year #adding year\n",
    "df[var_name + 'DayOfYear'] = df[var_name].dt.dayofyear #adding dayofyear\n",
    "\n",
    "features_x.remove(var_name) #removing Date\n",
    "features_x.append(var_name + 'Day')\n",
    "features_x.append(var_name + 'Week')\n",
    "features_x.append(var_name + 'Month')\n",
    "features_x.append(var_name + 'Year')\n",
    "features_x.append(var_name + 'DayOfYear')"
   ]
  },
  {
   "cell_type": "code",
   "execution_count": 12,
   "id": "c5bad78e",
   "metadata": {},
   "outputs": [],
   "source": [
    "store.StoreType = LabelEncoder().fit_transform(store.StoreType) #encoding StoreType\n",
    "store.Assortment = LabelEncoder().fit_transform(store.Assortment) #encoding Assortment"
   ]
  },
  {
   "cell_type": "code",
   "execution_count": 13,
   "id": "d650fa2b",
   "metadata": {},
   "outputs": [],
   "source": [
    "join_with = store['PromoInterval'].str.split(',').apply(pd.Series)\n",
    "join_with.columns = join_with.columns.map(lambda x: str(x) + '_PromoInterval')\n",
    "store = store.join(join_with) #joining splits"
   ]
  },
  {
   "cell_type": "code",
   "execution_count": 14,
   "id": "dcedecaf",
   "metadata": {},
   "outputs": [],
   "source": [
    "def monthToNum(value):\n",
    "    if(value=='Sept'):\n",
    "        value='Sep'\n",
    "    return list(calendar.month_abbr).index(value)\n",
    "#mapping month abbr to month number\n",
    "store['0_PromoInterval'] = store['0_PromoInterval'].map(lambda x: monthToNum(x) if str(x) != 'nan' else np.nan)\n",
    "store['1_PromoInterval'] = store['1_PromoInterval'].map(lambda x: monthToNum(x) if str(x) != 'nan' else np.nan)\n",
    "store['2_PromoInterval'] = store['2_PromoInterval'].map(lambda x: monthToNum(x) if str(x) != 'nan' else np.nan)\n",
    "store['3_PromoInterval'] = store['3_PromoInterval'].map(lambda x: monthToNum(x) if str(x) != 'nan' else np.nan)"
   ]
  },
  {
   "cell_type": "code",
   "execution_count": 17,
   "id": "5c23ccc0",
   "metadata": {},
   "outputs": [
    {
     "data": {
      "text/plain": [
       "(1115,)"
      ]
     },
     "execution_count": 17,
     "metadata": {},
     "output_type": "execute_result"
    }
   ],
   "source": [
    "competition_open = []\n",
    "for index, value in store[['CompetitionOpenSinceMonth', 'CompetitionOpenSinceYear']].iterrows():\n",
    "    try:\n",
    "        year, month = int(value['CompetitionOpenSinceYear']), int(value['CompetitionOpenSinceMonth'])\n",
    "        date = pd.to_datetime(\"{}-{}-01\".format(year, month), format='%Y-%m')\n",
    "        competition_open.append(date)\n",
    "    except:\n",
    "        competition_open.append(np.nan)\n",
    "competition_open = pd.Series(competition_open)\n",
    "competition_open.shape"
   ]
  },
  {
   "cell_type": "code",
   "execution_count": 18,
   "id": "2c9cd9c1",
   "metadata": {},
   "outputs": [],
   "source": [
    "store['CompetitionOpen'] = competition_open #converted int to datetime\n",
    "store['CompetitionOpen'] = store.CompetitionOpen.dt.strftime('%Y%m%d')"
   ]
  },
  {
   "cell_type": "code",
   "execution_count": 16,
   "id": "d401ffd1",
   "metadata": {},
   "outputs": [
    {
     "data": {
      "text/plain": [
       "(1115,)"
      ]
     },
     "execution_count": 16,
     "metadata": {},
     "output_type": "execute_result"
    }
   ],
   "source": [
    "promo = []\n",
    "for index, value in store[['Promo2SinceWeek', 'Promo2SinceYear']].iterrows():\n",
    "    try:\n",
    "        year, week = int(value['Promo2SinceYear']), int(value['Promo2SinceWeek'])\n",
    "        date = pd.to_datetime(\"{}-{}-01\".format(year, week), format='%Y%W')\n",
    "        promo.append(date)\n",
    "    except:\n",
    "        promo.append(np.nan)\n",
    "promo = pd.to_datetime(pd.Series(competition_open))\n",
    "promo.shape"
   ]
  },
  {
   "cell_type": "code",
   "execution_count": 19,
   "id": "77d68078",
   "metadata": {},
   "outputs": [],
   "source": [
    "store['PromoSince'] = promo #converted int to datetime\n",
    "store['PromoSince'] = store.PromoSince.dt.strftime('%Y%m%d')"
   ]
  },
  {
   "cell_type": "code",
   "execution_count": 20,
   "id": "89c7fcdf",
   "metadata": {},
   "outputs": [],
   "source": [
    "store_features = ['Store', 'StoreType', 'Assortment', 'CompetitionDistance', 'CompetitionOpen', \n",
    "                  'PromoSince', '0_PromoInterval']\n",
    "#1_PromoInterval, 2_PromoInterval, 3_PromoInterval irrelevent"
   ]
  },
  {
   "cell_type": "code",
   "execution_count": 21,
   "id": "0aa9f1cd",
   "metadata": {},
   "outputs": [],
   "source": [
    "df = pd.merge(df, store[store_features], how='left', on=['Store'])"
   ]
  },
  {
   "cell_type": "code",
   "execution_count": 22,
   "id": "b7f1e903",
   "metadata": {},
   "outputs": [],
   "source": [
    "features_x = list(set(features_x + store_features))"
   ]
  },
  {
   "cell_type": "code",
   "execution_count": 23,
   "id": "484a0a14",
   "metadata": {},
   "outputs": [],
   "source": [
    "for feature in features_x:\n",
    "    df[feature] = df[feature].fillna(-999) #out of range value for model"
   ]
  },
  {
   "cell_type": "code",
   "execution_count": 24,
   "id": "794f261f",
   "metadata": {},
   "outputs": [],
   "source": [
    "df['DateInt'] = df.Date.dt.strftime('%Y%m%d').map(int) #mapping to Int\n",
    "df['CompetitionOpen'] = df.CompetitionOpen.map(int)\n",
    "df['PromoSince'] = df.PromoSince.map(int)"
   ]
  },
  {
   "cell_type": "code",
   "execution_count": 25,
   "id": "c11cff7e",
   "metadata": {},
   "outputs": [],
   "source": [
    "df['Zscore'] = (df.Sales - df.Sales.mean())/df.Sales.std()"
   ]
  },
  {
   "cell_type": "code",
   "execution_count": 26,
   "id": "a77d4bd5",
   "metadata": {},
   "outputs": [],
   "source": [
    "thresh=4.0\n",
    "def check_outlier(value):\n",
    "    if(value>=thresh):\n",
    "        return True\n",
    "    else:\n",
    "        return False\n",
    "\n",
    "df['Outlier'] = df.Zscore.apply(check_outlier)"
   ]
  },
  {
   "cell_type": "code",
   "execution_count": 27,
   "id": "5945c17b",
   "metadata": {},
   "outputs": [],
   "source": [
    "store_data_sales = df.groupby([df['Store']])['Sales'].sum()\n",
    "store_data_customers = df.groupby([df['Store']])['Customers'].sum()\n",
    "store_data_open = df.groupby([df['Store']])['Open'].count()\n",
    "\n",
    "store_data_sales_per_day = store_data_sales / store_data_open\n",
    "store_data_customers_per_day = store_data_customers / store_data_open\n",
    "store_data_sales_per_customer_per_day = store_data_sales_per_day / store_data_customers_per_day\n",
    "\n",
    "df_store = pd.merge(store, store_data_sales_per_day.reset_index(name='SalesPerDay'), how='left', on=['Store'])\n",
    "df_store = pd.merge(df_store, store_data_customers_per_day.reset_index(name='CustomersPerDay'), how='left', on=['Store'])\n",
    "df_store = pd.merge(df_store, store_data_sales_per_customer_per_day.reset_index(name='SalesPerCustomersPerDay'), how='left', on=['Store'])"
   ]
  },
  {
   "cell_type": "code",
   "execution_count": 28,
   "id": "a8161eba",
   "metadata": {},
   "outputs": [],
   "source": [
    "store_features = ['Store', 'SalesPerDay', 'CustomersPerDay', 'SalesPerCustomersPerDay']\n",
    "\n",
    "features_x = list(set(features_x + store_features))\n",
    "df = pd.merge(df, df_store[store_features], how='left', on=['Store'])"
   ]
  },
  {
   "cell_type": "code",
   "execution_count": 29,
   "id": "dfb2adb7",
   "metadata": {},
   "outputs": [],
   "source": [
    "holidays_each_day_of_week = df.groupby(df.DayOfWeek).sum().StateHoliday\n",
    "df = pd.merge(df, holidays_each_day_of_week.reset_index(name='HolidaysPerDayOfWeek'), on=['DayOfWeek'])"
   ]
  },
  {
   "cell_type": "code",
   "execution_count": 30,
   "id": "97a5ab23",
   "metadata": {},
   "outputs": [],
   "source": [
    "school_holidays_each_day_of_week = df.groupby(df.DayOfWeek).sum().SchoolHoliday\n",
    "df = pd.merge(df, school_holidays_each_day_of_week.reset_index(name='SchoolHolidaysPerDayOfWeek'), on=['DayOfWeek'])"
   ]
  },
  {
   "cell_type": "code",
   "execution_count": 31,
   "id": "e2aff79f",
   "metadata": {},
   "outputs": [],
   "source": [
    "promo_each_day_of_week = df.groupby(df.DayOfWeek).sum().Promo\n",
    "df = pd.merge(df, promo_each_day_of_week.reset_index(name='PromoPerDayOfWeek'), on=['DayOfWeek'])"
   ]
  },
  {
   "cell_type": "code",
   "execution_count": null,
   "id": "088a4824",
   "metadata": {},
   "outputs": [],
   "source": [
    "holidays_next_week=[]\n",
    "holidays_next_week_index=[]\n",
    "for index, value in df.groupby(df.Date).sum().iterrows():\n",
    "    start_range = index + datetime.timedelta(days=7)\n",
    "    end_range = index + datetime.timedelta(days=15)\n",
    "    school_holidays = sum((df.groupby(df.Date).sum()[start_range:end_range]).SchoolHoliday)\n",
    "    state_holidays = sum((df.groupby(df.Date).sum()[start_range:end_range]).StateHoliday)\n",
    "    holidays_next_week.append(school_holidays+state_holidays)\n",
    "    holidays_next_week_index.append(index)\n",
    "    \n",
    "holidays_next_week = pd.Series(holidays_next_week)\n",
    "holidays_next_week.shape"
   ]
  },
  {
   "cell_type": "code",
   "execution_count": null,
   "id": "3cafbac0",
   "metadata": {},
   "outputs": [],
   "source": [
    "holidays_this_week=[]\n",
    "index_list = []\n",
    "for index, value in df.groupby(df.Date).sum().iterrows():\n",
    "    start_range = index \n",
    "    end_range = index + datetime.timedelta(days=7)\n",
    "    school_holidays = sum((df.groupby(df.Date).sum()[start_range:end_range]).SchoolHoliday)\n",
    "    state_holidays = sum((df.groupby(df.Date).sum()[start_range:end_range]).StateHoliday)\n",
    "    holidays_this_week.append(school_holidays+state_holidays)\n",
    "    index_list.append(index)\n",
    "    \n",
    "holidays_this_week = pd.Series(holidays_this_week)\n",
    "holidays_this_week.shape"
   ]
  },
  {
   "cell_type": "code",
   "execution_count": null,
   "id": "0d5e3a62",
   "metadata": {},
   "outputs": [],
   "source": [
    "holidays_last_week=[]\n",
    "holidays_last_week_index=[]\n",
    "for index, value in df.groupby(df.Date).sum().iterrows():\n",
    "    start_range = index - datetime.timedelta(days=7)\n",
    "    end_range = index + datetime.timedelta(days=1)\n",
    "    school_holidays = sum((df.groupby(df.Date).sum()[start_range:end_range]).SchoolHoliday)\n",
    "    state_holidays = sum((df.groupby(df.Date).sum()[start_range:end_range]).StateHoliday)\n",
    "    holidays_last_week.append(school_holidays+state_holidays)\n",
    "    holidays_last_week_index.append(index)\n",
    "    \n",
    "holidays_last_week = pd.Series(holidays_next_week)\n",
    "holidays_last_week.shape"
   ]
  },
  {
   "cell_type": "code",
   "execution_count": null,
   "id": "ec4adcec",
   "metadata": {},
   "outputs": [],
   "source": [
    "temp_df = pd.DataFrame({'HolidaysNextWeek':holidays_next_week, 'Date': holidays_next_week_index})\n",
    "df = pd.merge(df, temp_df, on=['Date'])"
   ]
  },
  {
   "cell_type": "code",
   "execution_count": null,
   "id": "0922eb4f",
   "metadata": {},
   "outputs": [],
   "source": [
    "temp_df = pd.DataFrame({'HolidaysThisWeek':holidays_this_week, 'Date': index_list})\n",
    "df = pd.merge(df, temp_df, on=['Date'])"
   ]
  },
  {
   "cell_type": "code",
   "execution_count": null,
   "id": "1043f757",
   "metadata": {},
   "outputs": [],
   "source": [
    "temp_df = pd.DataFrame({'HolidaysLastWeek':holidays_last_week, 'Date': holidays_last_week_index})\n",
    "df = pd.merge(df, temp_df, on=['Date'])"
   ]
  },
  {
   "cell_type": "code",
   "execution_count": null,
   "id": "7e682bdf",
   "metadata": {},
   "outputs": [],
   "source": [
    "holidays_features = ['HolidaysPerDayOfWeek', 'SchoolHolidaysPerDayOfWeek', 'PromoPerDayOfWeek', \n",
    "                     'HolidaysNextWeek', 'HolidaysThisWeek', 'HolidaysLastWeek']\n",
    "\n",
    "features_x = list(set(features_x + holidays_features))"
   ]
  },
  {
   "cell_type": "code",
   "execution_count": null,
   "id": "f2e53c09",
   "metadata": {},
   "outputs": [],
   "source": [
    "#Most Promos are done on DayofWeek 4\n",
    "df['DaysTillMaxPromo'] = df.DayOfWeek.apply(lambda x: 4-x)"
   ]
  },
  {
   "cell_type": "code",
   "execution_count": null,
   "id": "0f0b5ca7",
   "metadata": {},
   "outputs": [],
   "source": [
    "df['PromoTomorrow'] = df.Promo.shift(-1)\n",
    "df['PromoYesterday'] = df.Promo.shift(1)\n"
   ]
  },
  {
   "cell_type": "code",
   "execution_count": null,
   "id": "544a2363",
   "metadata": {},
   "outputs": [],
   "source": [
    "promo_features = ['DaysTillMaxPromo', 'PromoTomorrow', 'PromoYesterday']\n",
    "\n",
    "features_x = list(set(features_x + promo_features))"
   ]
  },
  {
   "cell_type": "code",
   "execution_count": null,
   "id": "317c3a6f",
   "metadata": {},
   "outputs": [],
   "source": [
    "df.Sales = df.Sales.apply(lambda x: np.nan if x == 0 else x) #Convert 0 to NaNs"
   ]
  },
  {
   "cell_type": "code",
   "execution_count": null,
   "id": "1998af7b",
   "metadata": {},
   "outputs": [],
   "source": [
    "df.loc[df['is_train'] == 1, 'SalesLog'] = np.log(1+df.loc[df['is_train'] == 1]['Sales']) #Transforming Sales to 1+log"
   ]
  },
  {
   "cell_type": "code",
   "execution_count": null,
   "id": "15f84182",
   "metadata": {},
   "outputs": [],
   "source": [
    "len(features_x)"
   ]
  },
  {
   "cell_type": "code",
   "execution_count": null,
   "id": "b819279f",
   "metadata": {},
   "outputs": [],
   "source": [
    "df.shape"
   ]
  },
  {
   "cell_type": "code",
   "execution_count": null,
   "id": "8b75aa07",
   "metadata": {},
   "outputs": [],
   "source": [
    "df.isnull().sum().sum()"
   ]
  },
  {
   "cell_type": "markdown",
   "id": "a073425f",
   "metadata": {},
   "source": [
    "Modelling"
   ]
  },
  {
   "cell_type": "code",
   "execution_count": null,
   "id": "aa771fac",
   "metadata": {},
   "outputs": [],
   "source": []
  },
  {
   "cell_type": "code",
   "execution_count": null,
   "id": "068acbca",
   "metadata": {},
   "outputs": [],
   "source": [
    "import xgboost as xgb"
   ]
  },
  {
   "cell_type": "code",
   "execution_count": null,
   "id": "02008aeb",
   "metadata": {},
   "outputs": [],
   "source": [
    "data = df.loc[(df['is_train'] == 1) & (df['Open'] == 1) & (df['Outlier'] == False)]\n",
    "x_train, x_test, y_train, y_test = train_test_split(data[features_x], \n",
    "                                                    data[features_y], \n",
    "                                                    test_size=0.1, \n",
    "                                                    random_state=42)\n",
    "print(x_train.shape, y_train.shape, x_test.shape, y_test.shape)\n",
    "\n",
    "dtrain = xgb.DMatrix(x_train, y_train)\n",
    "dtest = xgb.DMatrix(x_test, y_test)\n",
    "\n",
    "num_round = 20000\n",
    "evallist = [(dtrain, 'train'), (dtest, 'test')]\n",
    "\n",
    "param = {'max_depth': 9,\n",
    "         'eta': 0.01,\n",
    "         'subsample': 0.75,\n",
    "         'colsample_bytree': 0.6, \n",
    "         'objective': 'reg:squarederror',}\n",
    "\n",
    "plst = list(param.items())\n",
    "\n",
    "model = xgb.train(plst, dtrain, num_round, evallist, \n",
    "                  feval=rmspe_xg, verbose_eval=250, early_stopping_rounds=250)\n"
   ]
  },
  {
   "cell_type": "code",
   "execution_count": null,
   "id": "164ec043",
   "metadata": {},
   "outputs": [],
   "source": []
  },
  {
   "cell_type": "code",
   "execution_count": null,
   "id": "2f3b7fc4",
   "metadata": {},
   "outputs": [],
   "source": [
    "#Print Feature Importance\n",
    "plt.figure(figsize=(18,8))\n",
    "from xgboost import plot_importance\n",
    "plot_importance(model)\n",
    "plt.show()"
   ]
  },
  {
   "cell_type": "code",
   "execution_count": null,
   "id": "c20f3864",
   "metadata": {},
   "outputs": [],
   "source": [
    "submit = df.loc[df['is_train'] == 0]\n",
    "dsubmit = xgb.DMatrix(submit[features_x])\n",
    "predictions = model.predict(dsubmit)\n",
    "\n",
    "df_predictions = submit['Id'].reset_index()\n",
    "df_predictions['Id'] = df_predictions['Id'].astype('int')\n",
    "df_predictions['Sales'] = (np.exp(predictions) - 1) * 0.985 #Scale Back\n",
    "\n",
    "df_predictions.sort_values('Id', inplace=True)\n",
    "df_predictions[['Id', 'Sales']].to_csv('solution.csv', index=False)"
   ]
  },
  {
   "cell_type": "code",
   "execution_count": null,
   "id": "43df8413",
   "metadata": {},
   "outputs": [],
   "source": []
  },
  {
   "cell_type": "code",
   "execution_count": null,
   "id": "5921086e",
   "metadata": {},
   "outputs": [],
   "source": []
  },
  {
   "cell_type": "code",
   "execution_count": null,
   "id": "ecd1623e",
   "metadata": {},
   "outputs": [],
   "source": []
  }
 ],
 "metadata": {
  "kernelspec": {
   "display_name": "Python 3",
   "language": "python",
   "name": "python3"
  },
  "language_info": {
   "codemirror_mode": {
    "name": "ipython",
    "version": 3
   },
   "file_extension": ".py",
   "mimetype": "text/x-python",
   "name": "python",
   "nbconvert_exporter": "python",
   "pygments_lexer": "ipython3",
   "version": "3.8.8"
  }
 },
 "nbformat": 4,
 "nbformat_minor": 5
}
